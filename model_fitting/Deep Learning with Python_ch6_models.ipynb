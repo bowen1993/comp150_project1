{
 "cells": [
  {
   "cell_type": "code",
   "execution_count": 74,
   "metadata": {},
   "outputs": [
    {
     "name": "stdout",
     "output_type": "stream",
     "text": [
      "No, nor I neither: I'll be at your elbow.\n",
      "2050\n",
      "41\n",
      "1\n"
     ]
    }
   ],
   "source": [
    "# # Deep Learning with Python # #\n",
    "\n",
    "# 6.8: Processing the labels of the raw data\n",
    "\n",
    "import os\n",
    "group1_dir = '/Users/sofia/comp150_project1/data/data1'\n",
    "train_dir = os.path.join(group1_dir, 'train')\n",
    "labels = []\n",
    "texts = []\n",
    "for label_type in ['female', 'male']:\n",
    "    dir_name = os.path.join(train_dir, label_type)\n",
    "    for fname in os.listdir(dir_name):\n",
    "        if fname[-4:] == '.txt':\n",
    "            f = open(os.path.join(dir_name, fname))\n",
    "            texts.append(f.read())\n",
    "            f.close()\n",
    "            if label_type == 'male':\n",
    "                labels.append(0)\n",
    "            else:\n",
    "                labels.append(1) \n",
    "                \n",
    "print(texts[1])\n",
    "print(len(texts))\n",
    "print(len(texts[1])) # prints length in chracters --use nltk for words\n",
    "print(labels[1])"
   ]
  },
  {
   "cell_type": "code",
   "execution_count": 75,
   "metadata": {
    "scrolled": false
   },
   "outputs": [
    {
     "name": "stdout",
     "output_type": "stream",
     "text": [
      "9 34\n",
      "Found 6745 unique tokens.\n",
      "[   0    0    0    0    0    0    0    0    0    0    0    0    0    0\n",
      "    0    0    0    0    0    0    0    0    0    0    0    0    0    0\n",
      "    0    0    0    0    0    0    0    0    0    0    0    0    0   30\n",
      "  135    3  388   68   17   56   20 3078]\n",
      "Shape of data tensor: (2050, 50)\n",
      "Shape of label tensor: (2050,)\n"
     ]
    }
   ],
   "source": [
    "# 6.9: Tokenizing the text of the raw data\n",
    "\n",
    "from keras.preprocessing.text import Tokenizer\n",
    "from keras.preprocessing.sequence import pad_sequences\n",
    "import numpy as np\n",
    "\n",
    "# FIX: maxlen size is the size of the set of independent/explanatory variables inputed in the NN\n",
    "\n",
    "maxlen = 50 # Cuts off reviews after maxlen words.\n",
    "training_samples = 1000 # Trains on taining_samples. \n",
    "validation_samples = 1050 # Validates on validation_samples. \n",
    "max_words = 6745 # Considers only the most frequent words in the dataset \n",
    "                 # group 1 dataset only has 6745 tokens. \n",
    "\n",
    "tokenizer = Tokenizer(num_words=max_words)  \n",
    "tokenizer.fit_on_texts(texts) \n",
    "sequences = tokenizer.texts_to_sequences(texts) \n",
    "print(len(sequences[1]), len(sequences[2])) # Sequences don't have the same length. There is one sequence per doc/speech.\n",
    "                                            # How are sequences constructed? \n",
    "                                            # Tokenizer makes a dictionary of max_words size where the words are ranked by frequency. \n",
    "                                            # texts_to_sequences encodes each document/speech by replacing each word\n",
    "                                            # in the order in which it occurs in the document with its rank number in the \n",
    "                                            # dictionary. \n",
    "                    \n",
    "#one_hot_results = tokenizer.texts_to_matrix(texts, mode='binary')\n",
    "#print(len(one_hot_results[1])) \n",
    "\n",
    "#print(sequences) # list of lists\n",
    "                    \n",
    "word_index = tokenizer.word_index\n",
    "print('Found %s unique tokens.' % len(word_index))\n",
    "#print(word_index)\n",
    "\n",
    "data = pad_sequences(sequences, maxlen=maxlen) \n",
    "print(data[1])\n",
    "\n",
    "labels = np.asarray(labels)\n",
    "print('Shape of data tensor:', data.shape)\n",
    "print('Shape of label tensor:', labels.shape)\n",
    "\n",
    "indices = np.arange(data.shape[0])\n",
    "np.random.shuffle(indices)\n",
    "data = data[indices]\n",
    "labels = labels[indices] # Splits the data into a training set and a validation set, but first shuffles the data, \n",
    "                         # because you’re starting with data in which samples are ordered (all negative first, \n",
    "                         # then all positive). \n",
    "        \n",
    "x_train = data[:training_samples]\n",
    "y_train = labels[:training_samples]\n",
    "x_val = data[training_samples: training_samples + validation_samples] \n",
    "y_val = labels[training_samples: training_samples + validation_samples]"
   ]
  },
  {
   "cell_type": "code",
   "execution_count": 52,
   "metadata": {},
   "outputs": [
    {
     "name": "stdout",
     "output_type": "stream",
     "text": [
      "[   0    0    0    0    0    0    0    0    0    0    0    0    0    0\n",
      "    0    0    0    0    0    0    0    0    0    0    0    0    0    0\n",
      "    0    0    0    0    0    0    6  483   13  597    9  139  531 2129\n",
      "   16    3   49   50    1  627  510  322]\n",
      "0\n",
      "[  0   0   0   0   0   0   0   0   0   0   0   0   0   0   0   0   0   0\n",
      "   0   0   0   0   0   0   0   0   0   0   0   0   0   0   0   0   0   0\n",
      "   0   0   0  89  62   4 341   3 132 503  20 473  16 504]\n",
      "1\n"
     ]
    }
   ],
   "source": [
    "print(x_train[1])\n",
    "print(y_train[1])\n",
    "print(x_val[1])\n",
    "print(y_val[1])"
   ]
  },
  {
   "cell_type": "code",
   "execution_count": 53,
   "metadata": {},
   "outputs": [
    {
     "name": "stdout",
     "output_type": "stream",
     "text": [
      "Found 400000 word vectors.\n"
     ]
    }
   ],
   "source": [
    "# 6.10: Parsing the GloVe word embedding\n",
    "\n",
    "glove_dir = '/Users/sofia/comp150_project1/model_fitting/glove.6B'\n",
    "embeddings_index = {}\n",
    "f = open(os.path.join(glove_dir, 'glove.6B.100d.txt'))\n",
    "for line in f:\n",
    "    values = line.split()\n",
    "    word = values[0]\n",
    "    coefs = np.asarray(values[1:], dtype='float32')\n",
    "    embeddings_index[word] = coefs\n",
    "f.close()\n",
    "print('Found %s word vectors.' % len(embeddings_index))"
   ]
  },
  {
   "cell_type": "code",
   "execution_count": 54,
   "metadata": {},
   "outputs": [
    {
     "name": "stdout",
     "output_type": "stream",
     "text": [
      "_________________________________________________________________\n",
      "Layer (type)                 Output Shape              Param #   \n",
      "=================================================================\n",
      "embedding_4 (Embedding)      (None, 50, 100)           700000    \n",
      "_________________________________________________________________\n",
      "flatten_4 (Flatten)          (None, 5000)              0         \n",
      "_________________________________________________________________\n",
      "dense_7 (Dense)              (None, 32)                160032    \n",
      "_________________________________________________________________\n",
      "dense_8 (Dense)              (None, 1)                 33        \n",
      "=================================================================\n",
      "Total params: 860,065\n",
      "Trainable params: 860,065\n",
      "Non-trainable params: 0\n",
      "_________________________________________________________________\n"
     ]
    }
   ],
   "source": [
    "# 6.11: Preparing GloVe embedding matrix\n",
    "\n",
    "embedding_dim = 100\n",
    "embedding_matrix = np.zeros((max_words, embedding_dim))\n",
    "for word, i in word_index.items():\n",
    "    if i < max_words:\n",
    "        embedding_vector = embeddings_index.get(word)\n",
    "        if embedding_vector is not None:\n",
    "            embedding_matrix[i] = embedding_vector # Words not found in the embedding index will be all zeros.\n",
    "\n",
    "# 6.12: Model definition\n",
    "\n",
    "from keras.models import Sequential\n",
    "from keras.layers import Embedding, Flatten, Dense\n",
    "\n",
    "model = Sequential()\n",
    "model.add(Embedding(max_words, embedding_dim, input_length=maxlen)) # INPUT Length!!\n",
    "model.add(Flatten())\n",
    "model.add(Dense(32, activation='relu'))\n",
    "model.add(Dense(1, activation='sigmoid'))\n",
    "model.summary()"
   ]
  },
  {
   "cell_type": "code",
   "execution_count": 55,
   "metadata": {},
   "outputs": [
    {
     "name": "stdout",
     "output_type": "stream",
     "text": [
      "Train on 1000 samples, validate on 1050 samples\n",
      "Epoch 1/20\n",
      "1000/1000 [==============================] - 1s 607us/step - loss: 0.7269 - acc: 0.5260 - val_loss: 0.7090 - val_acc: 0.5229\n",
      "Epoch 2/20\n",
      "1000/1000 [==============================] - 0s 169us/step - loss: 0.5896 - acc: 0.6780 - val_loss: 0.7337 - val_acc: 0.5286\n",
      "Epoch 3/20\n",
      "1000/1000 [==============================] - 0s 162us/step - loss: 0.4828 - acc: 0.7790 - val_loss: 0.8186 - val_acc: 0.5295\n",
      "Epoch 4/20\n",
      "1000/1000 [==============================] - 0s 193us/step - loss: 0.3863 - acc: 0.8400 - val_loss: 0.7912 - val_acc: 0.5600\n",
      "Epoch 5/20\n",
      "1000/1000 [==============================] - 0s 203us/step - loss: 0.3278 - acc: 0.8830 - val_loss: 0.9020 - val_acc: 0.5171\n",
      "Epoch 6/20\n",
      "1000/1000 [==============================] - 0s 233us/step - loss: 0.2664 - acc: 0.9110 - val_loss: 1.0243 - val_acc: 0.5467\n",
      "Epoch 7/20\n",
      "1000/1000 [==============================] - 0s 206us/step - loss: 0.2298 - acc: 0.9340 - val_loss: 0.9386 - val_acc: 0.5448\n",
      "Epoch 8/20\n",
      "1000/1000 [==============================] - 0s 273us/step - loss: 0.1847 - acc: 0.9490 - val_loss: 1.0507 - val_acc: 0.5486\n",
      "Epoch 9/20\n",
      "1000/1000 [==============================] - 0s 221us/step - loss: 0.1640 - acc: 0.9560 - val_loss: 1.0348 - val_acc: 0.5219\n",
      "Epoch 10/20\n",
      "1000/1000 [==============================] - 0s 158us/step - loss: 0.1335 - acc: 0.9730 - val_loss: 1.1438 - val_acc: 0.5267\n",
      "Epoch 11/20\n",
      "1000/1000 [==============================] - 0s 157us/step - loss: 0.1195 - acc: 0.9690 - val_loss: 1.2705 - val_acc: 0.5210\n",
      "Epoch 12/20\n",
      "1000/1000 [==============================] - 0s 150us/step - loss: 0.0949 - acc: 0.9780 - val_loss: 1.4065 - val_acc: 0.5190\n",
      "Epoch 13/20\n",
      "1000/1000 [==============================] - 0s 169us/step - loss: 0.0805 - acc: 0.9890 - val_loss: 1.7178 - val_acc: 0.5400\n",
      "Epoch 14/20\n",
      "1000/1000 [==============================] - 0s 157us/step - loss: 0.0693 - acc: 0.9880 - val_loss: 1.6745 - val_acc: 0.5210\n",
      "Epoch 15/20\n",
      "1000/1000 [==============================] - 0s 163us/step - loss: 0.0563 - acc: 0.9920 - val_loss: 1.6928 - val_acc: 0.5314\n",
      "Epoch 16/20\n",
      "1000/1000 [==============================] - 0s 166us/step - loss: 0.0496 - acc: 0.9910 - val_loss: 2.1951 - val_acc: 0.5371\n",
      "Epoch 17/20\n",
      "1000/1000 [==============================] - 0s 157us/step - loss: 0.0392 - acc: 0.9940 - val_loss: 1.8671 - val_acc: 0.5229\n",
      "Epoch 18/20\n",
      "1000/1000 [==============================] - 0s 150us/step - loss: 0.0336 - acc: 0.9960 - val_loss: 2.0054 - val_acc: 0.5229\n",
      "Epoch 19/20\n",
      "1000/1000 [==============================] - 0s 148us/step - loss: 0.0286 - acc: 0.9950 - val_loss: 2.1708 - val_acc: 0.5229\n",
      "Epoch 20/20\n",
      "1000/1000 [==============================] - 0s 144us/step - loss: 0.0238 - acc: 0.9980 - val_loss: 2.2546 - val_acc: 0.5162\n",
      "_________________________________________________________________\n",
      "Layer (type)                 Output Shape              Param #   \n",
      "=================================================================\n",
      "embedding_4 (Embedding)      (None, 50, 100)           700000    \n",
      "_________________________________________________________________\n",
      "flatten_4 (Flatten)          (None, 5000)              0         \n",
      "_________________________________________________________________\n",
      "dense_7 (Dense)              (None, 32)                160032    \n",
      "_________________________________________________________________\n",
      "dense_8 (Dense)              (None, 1)                 33        \n",
      "=================================================================\n",
      "Total params: 860,065\n",
      "Trainable params: 160,065\n",
      "Non-trainable params: 700,000\n",
      "_________________________________________________________________\n"
     ]
    }
   ],
   "source": [
    "# 6.13: Loading pretrained word embeddings into the Embedding layer\n",
    "\n",
    "model.layers[0].set_weights([embedding_matrix])\n",
    "model.layers[0].trainable = False\n",
    "\n",
    "# 6.14: Training and evaluation\n",
    "\n",
    "model.compile(optimizer='rmsprop',\n",
    "              loss='binary_crossentropy',\n",
    "              metrics=['acc'])\n",
    "history = model.fit(x_train, y_train,\n",
    "                    epochs=20,\n",
    "                    batch_size=32,\n",
    "                    validation_data=(x_val, y_val))\n",
    "model.save_weights('pre_trained_glove_model.h5')\n",
    "\n",
    "model.summary()"
   ]
  },
  {
   "cell_type": "code",
   "execution_count": 56,
   "metadata": {},
   "outputs": [
    {
     "data": {
      "image/png": "[encoded data removed]",
      "text/plain": [
       "<Figure size 432x288 with 1 Axes>"
      ]
     },
     "metadata": {
      "needs_background": "light"
     },
     "output_type": "display_data"
    },
    {
     "data": {
      "image/png": "[encoded data removed]",
      "text/plain": [
       "<Figure size 432x288 with 1 Axes>"
      ]
     },
     "metadata": {
      "needs_background": "light"
     },
     "output_type": "display_data"
    }
   ],
   "source": [
    "# 6.15: Plotting the results\n",
    "\n",
    "import matplotlib.pyplot as plt\n",
    "\n",
    "acc = history.history['acc']\n",
    "val_acc = history.history['val_acc']\n",
    "loss = history.history['loss']\n",
    "val_loss = history.history['val_loss']\n",
    "epochs = range(1, len(acc) + 1)\n",
    "plt.plot(epochs, acc, 'bo', label='Training acc')\n",
    "plt.plot(epochs, val_acc, 'b', label='Validation acc')\n",
    "plt.title('Training and validation accuracy')\n",
    "plt.legend()\n",
    "plt.figure()\n",
    "plt.plot(epochs, loss, 'bo', label='Training loss')\n",
    "plt.plot(epochs, val_loss, 'b', label='Validation loss')\n",
    "plt.title('Training and validation loss')\n",
    "plt.legend()\n",
    "plt.show()"
   ]
  },
  {
   "cell_type": "code",
   "execution_count": 57,
   "metadata": {},
   "outputs": [
    {
     "name": "stdout",
     "output_type": "stream",
     "text": [
      "_________________________________________________________________\n",
      "Layer (type)                 Output Shape              Param #   \n",
      "=================================================================\n",
      "embedding_5 (Embedding)      (None, 50, 100)           700000    \n",
      "_________________________________________________________________\n",
      "flatten_5 (Flatten)          (None, 5000)              0         \n",
      "_________________________________________________________________\n",
      "dense_9 (Dense)              (None, 32)                160032    \n",
      "_________________________________________________________________\n",
      "dense_10 (Dense)             (None, 1)                 33        \n",
      "=================================================================\n",
      "Total params: 860,065\n",
      "Trainable params: 860,065\n",
      "Non-trainable params: 0\n",
      "_________________________________________________________________\n",
      "Train on 1000 samples, validate on 1050 samples\n",
      "Epoch 1/10\n",
      "1000/1000 [==============================] - 1s 888us/step - loss: 0.6940 - acc: 0.5280 - val_loss: 0.6930 - val_acc: 0.5314\n",
      "Epoch 2/10\n",
      "1000/1000 [==============================] - 1s 508us/step - loss: 0.6437 - acc: 0.6870 - val_loss: 0.7115 - val_acc: 0.4895\n",
      "Epoch 3/10\n",
      "1000/1000 [==============================] - 0s 472us/step - loss: 0.5099 - acc: 0.8010 - val_loss: 0.6893 - val_acc: 0.5533\n",
      "Epoch 4/10\n",
      "1000/1000 [==============================] - 0s 463us/step - loss: 0.3326 - acc: 0.9000 - val_loss: 0.7192 - val_acc: 0.5467\n",
      "Epoch 5/10\n",
      "1000/1000 [==============================] - 0s 449us/step - loss: 0.2028 - acc: 0.9500 - val_loss: 0.7437 - val_acc: 0.5400\n",
      "Epoch 6/10\n",
      "1000/1000 [==============================] - 1s 518us/step - loss: 0.1225 - acc: 0.9690 - val_loss: 0.8490 - val_acc: 0.5229\n",
      "Epoch 7/10\n",
      "1000/1000 [==============================] - 0s 479us/step - loss: 0.0779 - acc: 0.9800 - val_loss: 0.8723 - val_acc: 0.5314\n",
      "Epoch 8/10\n",
      "1000/1000 [==============================] - 0s 414us/step - loss: 0.0502 - acc: 0.9890 - val_loss: 1.0076 - val_acc: 0.5381\n",
      "Epoch 9/10\n",
      "1000/1000 [==============================] - 0s 417us/step - loss: 0.0341 - acc: 0.9890 - val_loss: 1.1265 - val_acc: 0.5381\n",
      "Epoch 10/10\n",
      "1000/1000 [==============================] - 0s 452us/step - loss: 0.0224 - acc: 0.9920 - val_loss: 1.1837 - val_acc: 0.5429\n"
     ]
    }
   ],
   "source": [
    "# 6.16 Training the same model without pretrained word embeddings\n",
    "\n",
    "from keras.models import Sequential\n",
    "from keras.layers import Embedding, Flatten, Dense\n",
    "model = Sequential()\n",
    "model.add(Embedding(max_words, embedding_dim, input_length=maxlen))\n",
    "model.add(Flatten())\n",
    "model.add(Dense(32, activation='relu'))\n",
    "model.add(Dense(1, activation='sigmoid'))\n",
    "model.summary()\n",
    "model.compile(optimizer='rmsprop',\n",
    "              loss='binary_crossentropy',\n",
    "              metrics=['acc'])\n",
    "history = model.fit(x_train, y_train, # \n",
    "                    epochs=10,\n",
    "                    batch_size=32,\n",
    "                    validation_data=(x_val, y_val))"
   ]
  },
  {
   "cell_type": "code",
   "execution_count": 59,
   "metadata": {},
   "outputs": [
    {
     "name": "stdout",
     "output_type": "stream",
     "text": [
      "514/514 [==============================] - 0s 38us/step\n"
     ]
    },
    {
     "data": {
      "text/plain": [
       "[2.5486942200345286, 0.4961089494163424]"
      ]
     },
     "execution_count": 59,
     "metadata": {},
     "output_type": "execute_result"
    }
   ],
   "source": [
    "# 6.17 Tokenizing the data of the test set\n",
    "\n",
    "test_dir = os.path.join(group1_dir, 'test')\n",
    "labels = []\n",
    "texts = []\n",
    "for label_type in ['male', 'female']:\n",
    "    dir_name = os.path.join(test_dir, label_type)\n",
    "    for fname in sorted(os.listdir(dir_name)):\n",
    "        if fname[-4:] == '.txt':\n",
    "            f = open(os.path.join(dir_name, fname))\n",
    "            texts.append(f.read())\n",
    "            f.close()\n",
    "            if label_type == 'male':\n",
    "                labels.append(0)\n",
    "            else:\n",
    "                labels.append(1)\n",
    "sequences = tokenizer.texts_to_sequences(texts)\n",
    "x_test = pad_sequences(sequences, maxlen=maxlen)\n",
    "y_test = np.asarray(labels)            \n",
    "\n",
    "# 6.18 Evaluating the model on the test set\n",
    "\n",
    "model.load_weights('pre_trained_glove_model.h5')\n",
    "model.evaluate(x_test, y_test)"
   ]
  },
  {
   "cell_type": "code",
   "execution_count": null,
   "metadata": {},
   "outputs": [],
   "source": []
  },
  {
   "cell_type": "code",
   "execution_count": null,
   "metadata": {},
   "outputs": [],
   "source": []
  },
  {
   "cell_type": "code",
   "execution_count": null,
   "metadata": {},
   "outputs": [],
   "source": []
  },
  {
   "cell_type": "code",
   "execution_count": 81,
   "metadata": {},
   "outputs": [
    {
     "name": "stdout",
     "output_type": "stream",
     "text": [
      "No, nor I neither: I'll be at your elbow.\n",
      "6745\n",
      "Found 6745 unique tokens.\n",
      "[0. 0. 0. ... 0. 0. 0.]\n",
      "Shape of data tensor: (2050, 6745)\n",
      "Shape of label tensor: (2050,)\n",
      "Train on 1000 samples, validate on 1050 samples\n",
      "Epoch 1/20\n",
      "1000/1000 [==============================] - 1s 748us/step - loss: 0.6929 - acc: 0.5240 - val_loss: 0.6942 - val_acc: 0.5029\n",
      "Epoch 2/20\n",
      "1000/1000 [==============================] - 0s 99us/step - loss: 0.6764 - acc: 0.5800 - val_loss: 0.6953 - val_acc: 0.4943\n",
      "Epoch 3/20\n",
      "1000/1000 [==============================] - 0s 98us/step - loss: 0.6611 - acc: 0.6160 - val_loss: 0.6990 - val_acc: 0.4819\n",
      "Epoch 4/20\n",
      "1000/1000 [==============================] - 0s 99us/step - loss: 0.6448 - acc: 0.6270 - val_loss: 0.6961 - val_acc: 0.4971\n",
      "Epoch 5/20\n",
      "1000/1000 [==============================] - 0s 104us/step - loss: 0.6276 - acc: 0.7430 - val_loss: 0.7057 - val_acc: 0.4848\n",
      "Epoch 6/20\n",
      "1000/1000 [==============================] - 0s 106us/step - loss: 0.6106 - acc: 0.7260 - val_loss: 0.7014 - val_acc: 0.4848\n",
      "Epoch 7/20\n",
      "1000/1000 [==============================] - 0s 114us/step - loss: 0.5936 - acc: 0.7650 - val_loss: 0.7003 - val_acc: 0.4886\n",
      "Epoch 8/20\n",
      "1000/1000 [==============================] - 0s 100us/step - loss: 0.5779 - acc: 0.8140 - val_loss: 0.7040 - val_acc: 0.4943\n",
      "Epoch 9/20\n",
      "1000/1000 [==============================] - 0s 105us/step - loss: 0.5602 - acc: 0.8410 - val_loss: 0.7090 - val_acc: 0.4886\n",
      "Epoch 10/20\n",
      "1000/1000 [==============================] - 0s 106us/step - loss: 0.5440 - acc: 0.8580 - val_loss: 0.7061 - val_acc: 0.5010\n",
      "Epoch 11/20\n",
      "1000/1000 [==============================] - 0s 110us/step - loss: 0.5284 - acc: 0.8770 - val_loss: 0.7135 - val_acc: 0.4933\n",
      "Epoch 12/20\n",
      "1000/1000 [==============================] - 0s 105us/step - loss: 0.5131 - acc: 0.8900 - val_loss: 0.7107 - val_acc: 0.5029\n",
      "Epoch 13/20\n",
      "1000/1000 [==============================] - 0s 114us/step - loss: 0.4977 - acc: 0.8970 - val_loss: 0.7143 - val_acc: 0.5076\n",
      "Epoch 14/20\n",
      "1000/1000 [==============================] - 0s 114us/step - loss: 0.4835 - acc: 0.8990 - val_loss: 0.7116 - val_acc: 0.5152\n",
      "Epoch 15/20\n",
      "1000/1000 [==============================] - 0s 125us/step - loss: 0.4699 - acc: 0.9110 - val_loss: 0.7140 - val_acc: 0.5152\n",
      "Epoch 16/20\n",
      "1000/1000 [==============================] - 0s 122us/step - loss: 0.4562 - acc: 0.9100 - val_loss: 0.7173 - val_acc: 0.5171\n",
      "Epoch 17/20\n",
      "1000/1000 [==============================] - 0s 121us/step - loss: 0.4421 - acc: 0.9210 - val_loss: 0.7257 - val_acc: 0.5076\n",
      "Epoch 18/20\n",
      "1000/1000 [==============================] - 0s 124us/step - loss: 0.4295 - acc: 0.9190 - val_loss: 0.7182 - val_acc: 0.5219\n",
      "Epoch 19/20\n",
      "1000/1000 [==============================] - 0s 123us/step - loss: 0.4173 - acc: 0.9360 - val_loss: 0.7269 - val_acc: 0.5105\n",
      "Epoch 20/20\n",
      "1000/1000 [==============================] - 0s 115us/step - loss: 0.4052 - acc: 0.9280 - val_loss: 0.7246 - val_acc: 0.5238\n"
     ]
    }
   ],
   "source": [
    "# 3.3: Model definition --NO EMBEDDINGS\n",
    "\n",
    "from keras import models\n",
    "from keras import layers\n",
    "model = models.Sequential()\n",
    "model.add(layers.Dense(16, activation='relu', input_shape=(6745,)))\n",
    "model.add(layers.Dense(16, activation='relu'))\n",
    "model.add(layers.Dense(1, activation='sigmoid'))\n",
    "\n",
    "# 3.4: Compiling the model\n",
    "\n",
    "model.compile(optimizer='rmsprop',\n",
    "              loss='binary_crossentropy',\n",
    "              metrics=['accuracy'])\n",
    "\n",
    "\n",
    "# 3.5: Configuring the optimizer \n",
    "\n",
    "from keras import optimizers\n",
    "\n",
    "model.compile(optimizer=optimizers.RMSprop(lr=0.001),\n",
    "              loss='binary_crossentropy',\n",
    "              metrics=['accuracy'])\n",
    "\n",
    "# 3.6: Using custom losses and metrics\n",
    "\n",
    "from keras import losses\n",
    "from keras import metrics\n",
    "model.compile(optimizer=optimizers.RMSprop(lr=0.001),\n",
    "              loss=losses.binary_crossentropy,\n",
    "              metrics=[metrics.binary_accuracy])\n",
    "\n",
    "# 6.9: Tokenizing the text of the raw data\n",
    "\n",
    "from keras.preprocessing.text import Tokenizer\n",
    "from keras.preprocessing.sequence import pad_sequences\n",
    "import numpy as np\n",
    "\n",
    "# FIX: maxlen size is the size of the set of independent/explanatory variables inputed in the NN\n",
    "\n",
    "maxlen = 50 # Cuts off reviews after maxlen words.\n",
    "training_samples = 1000 # Trains on taining_samples. \n",
    "validation_samples = 1050 # Validates on validation_samples. \n",
    "max_words = 6745 # Considers only the most frequent words in the dataset \n",
    "                 # group 1 dataset only has 6745 tokens. \n",
    "\n",
    "tokenizer = Tokenizer(num_words=max_words)  \n",
    "tokenizer.fit_on_texts(texts) \n",
    "sequences = tokenizer.texts_to_sequences(texts) \n",
    "#print(sequences) # list of lists\n",
    "\n",
    "print(texts[1])\n",
    "one_hot_results = tokenizer.texts_to_matrix(texts, mode='binary')\n",
    "print(len(one_hot_results[1])) \n",
    "               \n",
    "word_index = tokenizer.word_index\n",
    "print('Found %s unique tokens.' % len(word_index))\n",
    "#print(word_index)\n",
    "\n",
    "data = one_hot_results \n",
    "print(data[1])\n",
    "\n",
    "labels = np.asarray(labels)\n",
    "print('Shape of data tensor:', data.shape)\n",
    "print('Shape of label tensor:', labels.shape)\n",
    "\n",
    "indices = np.arange(data.shape[0])\n",
    "np.random.shuffle(indices)\n",
    "data = data[indices]\n",
    "labels = labels[indices] # Splits the data into a training set and a validation set, but first shuffles the data, \n",
    "                         # because you’re starting with data in which samples are ordered (all negative first, \n",
    "                         # then all positive). \n",
    "        \n",
    "x_train = data[:training_samples]\n",
    "y_train = labels[:training_samples]\n",
    "x_val = data[training_samples: training_samples + validation_samples] \n",
    "y_val = labels[training_samples: training_samples + validation_samples]\n",
    "\n",
    "\n",
    "# 3.8: Training your model\n",
    "\n",
    "model.compile(optimizer='rmsprop',\n",
    "              loss='binary_crossentropy',\n",
    "              metrics=['acc'])\n",
    "\n",
    "history = model.fit(x_train,\n",
    "                    y_train,\n",
    "                    epochs=20,\n",
    "                    batch_size=512,\n",
    "                    validation_data=(x_val, y_val))"
   ]
  },
  {
   "cell_type": "code",
   "execution_count": null,
   "metadata": {},
   "outputs": [],
   "source": []
  },
  {
   "cell_type": "code",
   "execution_count": null,
   "metadata": {},
   "outputs": [],
   "source": []
  },
  {
   "cell_type": "code",
   "execution_count": null,
   "metadata": {},
   "outputs": [],
   "source": []
  },
  {
   "cell_type": "code",
   "execution_count": null,
   "metadata": {},
   "outputs": [],
   "source": [
    "# https://github.com/tensorflow/docs/blob/master/site/en/tutorials/keras/basic_text_classification.ipynb"
   ]
  },
  {
   "cell_type": "code",
   "execution_count": 15,
   "metadata": {},
   "outputs": [
    {
     "name": "stdout",
     "output_type": "stream",
     "text": [
      "Training entries: 2000, labels: 2000\n"
     ]
    }
   ],
   "source": [
    "print(\"Training entries: {}, labels: {}\".format(len(x_train), len(y_train)))"
   ]
  },
  {
   "cell_type": "code",
   "execution_count": 16,
   "metadata": {},
   "outputs": [
    {
     "name": "stdout",
     "output_type": "stream",
     "text": [
      "[  0   0   0   0   0   0   0   0   0   0   0   0   0   0   0   0   0   0\n",
      "   0   0   0   0   0   0   0   0   0   0   0   0   0   0   0   0   0   0\n",
      "   0   0   0   0   0   0   0   0   0   0   0   0   0   0   0   0   0   0\n",
      "   0   0   0   0   0   0   0   0   0   0   0   0   0   0   0   0   0   0\n",
      "   0   0   0   0   0   0   0   0   0   0   0   0   0   0   0   0   0   0\n",
      "   0   0   0   0   0   0   0   0   0   0   0   0   0   0   0   0   0   0\n",
      "   0   0   0   0   0   0   0   0   0   0   0   0   0   0   0   0   0   0\n",
      "   0   0   0   0   0   0   0   0   0   0   0   0   0   0   0   0   0   0\n",
      "   0   0   0   0   0   0   0   0   0   0   0   0   0   0   0   0   0   0\n",
      "   0   0   0   0   0   0   0   0   0   0   0   0   0   0   0   0   0   0\n",
      "   0   0   0   0   0   0   0   0   0   0   0   0   0   0   0   0   0   0\n",
      "   0   0   0   0   0   0   0   0   0   0   0   0   0   0   0   0   0   0\n",
      "   0   0   0   0   0   0   0   0   0   0   0   0   0   0   0   0   0   0\n",
      "   0   0   0   0   0   0   0   0   0   0   0   0   0   0   0   0   0   0\n",
      "   0   0   0   0   0   0   0   0   0   0   0   0   0   0   0   0   0   0\n",
      "   0   0   0   0   0   0   0   0   0   0   0   0   0   0   0   0   0   0\n",
      "   0  15  43  12 517  13 135   3  83  12 758  15]\n"
     ]
    }
   ],
   "source": [
    "print(x_train[4])"
   ]
  },
  {
   "cell_type": "code",
   "execution_count": 17,
   "metadata": {},
   "outputs": [
    {
     "data": {
      "text/plain": [
       "(300, 300)"
      ]
     },
     "execution_count": 17,
     "metadata": {},
     "output_type": "execute_result"
    }
   ],
   "source": [
    "len(x_train[0]), len(x_train[1])"
   ]
  },
  {
   "cell_type": "code",
   "execution_count": null,
   "metadata": {},
   "outputs": [],
   "source": []
  },
  {
   "cell_type": "code",
   "execution_count": null,
   "metadata": {},
   "outputs": [],
   "source": []
  },
  {
   "cell_type": "code",
   "execution_count": null,
   "metadata": {},
   "outputs": [],
   "source": []
  },
  {
   "cell_type": "code",
   "execution_count": null,
   "metadata": {},
   "outputs": [],
   "source": []
  }
 ],
 "metadata": {
  "kernelspec": {
   "display_name": "Python 3",
   "language": "python",
   "name": "python3"
  },
  "language_info": {
   "codemirror_mode": {
    "name": "ipython",
    "version": 3
   },
   "file_extension": ".py",
   "mimetype": "text/x-python",
   "name": "python",
   "nbconvert_exporter": "python",
   "pygments_lexer": "ipython3",
   "version": "3.6.0"
  }
 },
 "nbformat": 4,
 "nbformat_minor": 2
}
