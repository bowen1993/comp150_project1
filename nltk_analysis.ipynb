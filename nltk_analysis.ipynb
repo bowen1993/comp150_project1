{
 "cells": [
  {
   "cell_type": "code",
   "execution_count": 110,
   "metadata": {},
   "outputs": [],
   "source": [
    "import nltk\n",
    "import csv\n",
    "reader = csv.reader(open('filtered_name_id.csv', 'r'))\n",
    "data = {}\n",
    "for sp,n,p,g in reader:\n",
    "    data[sp] = {}\n",
    "    data[sp]['name'] = n\n",
    "    data[sp]['path'] = 'data/' + p[:-4] + '/' + sp + '.txt'\n",
    "    data[sp]['gender'] = g"
   ]
  },
  {
   "cell_type": "code",
   "execution_count": 111,
   "metadata": {},
   "outputs": [],
   "source": [
    "traits = {}\n",
    "traits['m'] = {}\n",
    "traits['f'] = {}\n",
    "male = traits['m']\n",
    "female = traits['f']\n",
    "# TODO clean text for stop words and punctuation\n",
    "male['text'] = \"\"\n",
    "female['text'] = \"\"\n",
    "for sp in data.keys():\n",
    "    f = open(d[sp]['path'])\n",
    "    t = f.read()\n",
    "    f.close()\n",
    "    if data[sp]['gender'] == 'MALE':\n",
    "        male['text'] += t\n",
    "    elif data[sp]['gender'] == 'FEMALE':\n",
    "        female['text'] += t"
   ]
  },
  {
   "cell_type": "code",
   "execution_count": 112,
   "metadata": {
    "collapsed": true
   },
   "outputs": [],
   "source": [
    "male['words'] = mText.split()\n",
    "female['words'] = fText.split()\n",
    "male['vocab'] = sorted(set(mWords))\n",
    "female['vocab'] = sorted(set(fWords))\n",
    "male['lex_div'] = len(male['vocab'])/len(male['words'])\n",
    "female['lex_div'] = len(female['vocab'])/len(female['words'])"
   ]
  },
  {
   "cell_type": "code",
   "execution_count": 113,
   "metadata": {
    "scrolled": true
   },
   "outputs": [
    {
     "name": "stdout",
     "output_type": "stream",
     "text": [
      "Text Length\n",
      "Male   204188 \n",
      "Female  69187\n",
      "\n",
      "Vocab Size\n",
      "Male   8543 \n",
      "Female 4034\n",
      "\n",
      "Lexical Diversity\n",
      "Male   0.22106352697632295 \n",
      "Female 0.304062711992161\n"
     ]
    }
   ],
   "source": [
    "print(\"Text Length\\nMale  \", len(male['text']), \"\\nFemale \", len(female['text']))\n",
    "print(\"\\nVocab Size\\nMale  \", len(male['vocab']), \"\\nFemale\", len(female['vocab']))\n",
    "print(\"\\nLexical Diversity\\nMale  \", male['lex_div'], \"\\nFemale\", female['lex_div'])"
   ]
  },
  {
   "cell_type": "code",
   "execution_count": null,
   "metadata": {
    "collapsed": true
   },
   "outputs": [],
   "source": []
  }
 ],
 "metadata": {
  "kernelspec": {
   "display_name": "Python 3",
   "language": "python",
   "name": "python3"
  },
  "language_info": {
   "codemirror_mode": {
    "name": "ipython",
    "version": 3
   },
   "file_extension": ".py",
   "mimetype": "text/x-python",
   "name": "python",
   "nbconvert_exporter": "python",
   "pygments_lexer": "ipython3",
   "version": "3.6.3"
  }
 },
 "nbformat": 4,
 "nbformat_minor": 2
}
